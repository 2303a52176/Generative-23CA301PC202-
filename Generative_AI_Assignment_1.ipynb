{
  "nbformat": 4,
  "nbformat_minor": 0,
  "metadata": {
    "colab": {
      "provenance": [],
      "authorship_tag": "ABX9TyONGbQNSKsjqXp8ivdwYZvR",
      "include_colab_link": true
    },
    "kernelspec": {
      "name": "python3",
      "display_name": "Python 3"
    },
    "language_info": {
      "name": "python"
    }
  },
  "cells": [
    {
      "cell_type": "markdown",
      "metadata": {
        "id": "view-in-github",
        "colab_type": "text"
      },
      "source": [
        "<a href=\"https://colab.research.google.com/github/2303a52176/Generative-23CA301PC202-/blob/main/Generative_AI_Assignment_1.ipynb\" target=\"_parent\"><img src=\"https://colab.research.google.com/assets/colab-badge.svg\" alt=\"Open In Colab\"/></a>"
      ]
    },
    {
      "cell_type": "markdown",
      "source": [
        "## 1."
      ],
      "metadata": {
        "id": "nEwj6kdg2gWM"
      }
    },
    {
      "cell_type": "code",
      "execution_count": 1,
      "metadata": {
        "colab": {
          "base_uri": "https://localhost:8080/"
        },
        "id": "leFukjXI2O66",
        "outputId": "915ce87a-b033-488c-a68d-ebe30a6ea10e"
      },
      "outputs": [
        {
          "output_type": "stream",
          "name": "stdout",
          "text": [
            "MAE: 0.4600000000000016, Sklearn MAE: 0.4600000000000016\n",
            "MSE: 0.24600000000000147, Sklearn MSE: 0.24600000000000147\n",
            "RMSE: 0.49598387070549127, Sklearn RMSE: 0.49598387070549127\n"
          ]
        }
      ],
      "source": [
        "import numpy as np\n",
        "from sklearn.metrics import mean_absolute_error, mean_squared_error\n",
        "\n",
        "YActual = np.array([20, 30, 40, 50, 60])\n",
        "YPred = np.array([20.5, 30.3, 40.2, 50.6, 60.7])\n",
        "\n",
        "mae = np.mean(np.abs(YActual - YPred))\n",
        "mse = np.mean((YActual - YPred) ** 2)\n",
        "rmse = np.sqrt(mse)\n",
        "\n",
        "mae_sklearn = mean_absolute_error(YActual, YPred)\n",
        "mse_sklearn = mean_squared_error(YActual, YPred)\n",
        "rmse_sklearn = np.sqrt(mse_sklearn)\n",
        "\n",
        "print(f'MAE: {mae}, Sklearn MAE: {mae_sklearn}')\n",
        "print(f'MSE: {mse}, Sklearn MSE: {mse_sklearn}')\n",
        "print(f'RMSE: {rmse}, Sklearn RMSE: {rmse_sklearn}')\n"
      ]
    },
    {
      "cell_type": "markdown",
      "source": [
        "## 2."
      ],
      "metadata": {
        "id": "tHGPsgp52jrk"
      }
    },
    {
      "cell_type": "code",
      "source": [
        "import numpy as np\n",
        "from sklearn.metrics import accuracy_score, precision_score, recall_score, f1_score\n",
        "\n",
        "YActual = np.array([0, 0, 1, 1, 2, 0, 0, 1, 0, 2, 1, 2, 2, 0, 2])\n",
        "YPred = np.array([0, 0, 1, 0, 2, 0, 0, 1, 1, 2, 2, 2, 2, 2, 2])\n",
        "\n",
        "accuracy = accuracy_score(YActual, YPred)\n",
        "precision = precision_score(YActual, YPred, average=None, labels=np.unique(YActual))\n",
        "recall = recall_score(YActual, YPred, average=None, labels=np.unique(YActual))\n",
        "f1 = f1_score(YActual, YPred, average=None, labels=np.unique(YActual))\n",
        "\n",
        "accuracy_sklearn = accuracy_score(YActual, YPred)\n",
        "precision_sklearn = precision_score(YActual, YPred, average=None, labels=np.unique(YActual))\n",
        "recall_sklearn = recall_score(YActual, YPred, average=None, labels=np.unique(YActual))\n",
        "f1_sklearn = f1_score(YActual, YPred, average=None, labels=np.unique(YActual))\n",
        "\n",
        "print(f'Accuracy: {accuracy}, Sklearn Accuracy: {accuracy_sklearn}')\n",
        "print(f'Precision: {precision}, Sklearn Precision: {precision_sklearn}')\n",
        "print(f'Recall: {recall}, Sklearn Recall: {recall_sklearn}')\n",
        "print(f'F1 Score: {f1}, Sklearn F1 Score: {f1_sklearn}')\n"
      ],
      "metadata": {
        "colab": {
          "base_uri": "https://localhost:8080/"
        },
        "id": "CyPwb1tf2lTL",
        "outputId": "c5b73cdb-2e85-40d7-fba9-3b24b9608cc6"
      },
      "execution_count": 2,
      "outputs": [
        {
          "output_type": "stream",
          "name": "stdout",
          "text": [
            "Accuracy: 0.7333333333333333, Sklearn Accuracy: 0.7333333333333333\n",
            "Precision: [0.8        0.66666667 0.71428571], Sklearn Precision: [0.8        0.66666667 0.71428571]\n",
            "Recall: [0.66666667 0.5        1.        ], Sklearn Recall: [0.66666667 0.5        1.        ]\n",
            "F1 Score: [0.72727273 0.57142857 0.83333333], Sklearn F1 Score: [0.72727273 0.57142857 0.83333333]\n"
          ]
        }
      ]
    }
  ]
}